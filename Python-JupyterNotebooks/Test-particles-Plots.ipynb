{
 "cells": [
  {
   "cell_type": "code",
   "execution_count": 2,
   "metadata": {},
   "outputs": [],
   "source": [
    "import numpy as np\n",
    "import matplotlib.pyplot as plt\n",
    "import matplotlib\n",
    "%matplotlib inline\n",
    "import pandas as pd"
   ]
  },
  {
   "cell_type": "markdown",
   "metadata": {},
   "source": [
    "## Reading data"
   ]
  },
  {
   "cell_type": "code",
   "execution_count": 13,
   "metadata": {},
   "outputs": [],
   "source": [
    "data = pd.read_csv('testparticles.csv')"
   ]
  },
  {
   "cell_type": "code",
   "execution_count": 14,
   "metadata": {},
   "outputs": [
    {
     "data": {
      "text/html": [
       "<div>\n",
       "<style scoped>\n",
       "    .dataframe tbody tr th:only-of-type {\n",
       "        vertical-align: middle;\n",
       "    }\n",
       "\n",
       "    .dataframe tbody tr th {\n",
       "        vertical-align: top;\n",
       "    }\n",
       "\n",
       "    .dataframe thead th {\n",
       "        text-align: right;\n",
       "    }\n",
       "</style>\n",
       "<table border=\"1\" class=\"dataframe\">\n",
       "  <thead>\n",
       "    <tr style=\"text-align: right;\">\n",
       "      <th></th>\n",
       "      <th>Smaxis</th>\n",
       "      <th>InitialEcc</th>\n",
       "      <th>MeanAnomaly</th>\n",
       "      <th>MaxEcc</th>\n",
       "      <th>Lifetime</th>\n",
       "      <th>MaxInc</th>\n",
       "      <th>MaxSmaxis</th>\n",
       "    </tr>\n",
       "  </thead>\n",
       "  <tbody>\n",
       "    <tr>\n",
       "      <th>0</th>\n",
       "      <td>0.005000</td>\n",
       "      <td>0.00005</td>\n",
       "      <td>5.006660</td>\n",
       "      <td>0.001610</td>\n",
       "      <td>125.663706</td>\n",
       "      <td>0.00005</td>\n",
       "      <td>0.005004</td>\n",
       "    </tr>\n",
       "    <tr>\n",
       "      <th>1</th>\n",
       "      <td>0.007222</td>\n",
       "      <td>0.00005</td>\n",
       "      <td>6.043734</td>\n",
       "      <td>0.004249</td>\n",
       "      <td>125.663706</td>\n",
       "      <td>0.00005</td>\n",
       "      <td>0.007222</td>\n",
       "    </tr>\n",
       "    <tr>\n",
       "      <th>2</th>\n",
       "      <td>0.009444</td>\n",
       "      <td>0.00005</td>\n",
       "      <td>4.670384</td>\n",
       "      <td>0.018214</td>\n",
       "      <td>125.663706</td>\n",
       "      <td>0.00005</td>\n",
       "      <td>0.009513</td>\n",
       "    </tr>\n",
       "    <tr>\n",
       "      <th>3</th>\n",
       "      <td>0.011667</td>\n",
       "      <td>0.00005</td>\n",
       "      <td>2.290923</td>\n",
       "      <td>0.040459</td>\n",
       "      <td>125.663706</td>\n",
       "      <td>0.00005</td>\n",
       "      <td>0.011722</td>\n",
       "    </tr>\n",
       "    <tr>\n",
       "      <th>4</th>\n",
       "      <td>0.013889</td>\n",
       "      <td>0.00005</td>\n",
       "      <td>2.289513</td>\n",
       "      <td>0.045383</td>\n",
       "      <td>125.663706</td>\n",
       "      <td>0.00005</td>\n",
       "      <td>0.014058</td>\n",
       "    </tr>\n",
       "    <tr>\n",
       "      <th>...</th>\n",
       "      <td>...</td>\n",
       "      <td>...</td>\n",
       "      <td>...</td>\n",
       "      <td>...</td>\n",
       "      <td>...</td>\n",
       "      <td>...</td>\n",
       "      <td>...</td>\n",
       "    </tr>\n",
       "    <tr>\n",
       "      <th>95</th>\n",
       "      <td>0.016111</td>\n",
       "      <td>0.30000</td>\n",
       "      <td>0.258862</td>\n",
       "      <td>0.300000</td>\n",
       "      <td>125.663706</td>\n",
       "      <td>0.00005</td>\n",
       "      <td>0.016378</td>\n",
       "    </tr>\n",
       "    <tr>\n",
       "      <th>96</th>\n",
       "      <td>0.018333</td>\n",
       "      <td>0.30000</td>\n",
       "      <td>4.155423</td>\n",
       "      <td>0.439541</td>\n",
       "      <td>125.663706</td>\n",
       "      <td>0.00005</td>\n",
       "      <td>0.018522</td>\n",
       "    </tr>\n",
       "    <tr>\n",
       "      <th>97</th>\n",
       "      <td>0.020556</td>\n",
       "      <td>0.30000</td>\n",
       "      <td>3.863530</td>\n",
       "      <td>0.405279</td>\n",
       "      <td>125.663706</td>\n",
       "      <td>0.00005</td>\n",
       "      <td>0.020556</td>\n",
       "    </tr>\n",
       "    <tr>\n",
       "      <th>98</th>\n",
       "      <td>0.022778</td>\n",
       "      <td>0.30000</td>\n",
       "      <td>5.957645</td>\n",
       "      <td>0.300000</td>\n",
       "      <td>13.962634</td>\n",
       "      <td>0.00005</td>\n",
       "      <td>0.022778</td>\n",
       "    </tr>\n",
       "    <tr>\n",
       "      <th>99</th>\n",
       "      <td>0.025000</td>\n",
       "      <td>0.30000</td>\n",
       "      <td>4.238651</td>\n",
       "      <td>0.300000</td>\n",
       "      <td>13.962634</td>\n",
       "      <td>0.00005</td>\n",
       "      <td>0.025000</td>\n",
       "    </tr>\n",
       "  </tbody>\n",
       "</table>\n",
       "<p>100 rows × 7 columns</p>\n",
       "</div>"
      ],
      "text/plain": [
       "      Smaxis  InitialEcc  MeanAnomaly    MaxEcc    Lifetime   MaxInc  \\\n",
       "0   0.005000     0.00005     5.006660  0.001610  125.663706  0.00005   \n",
       "1   0.007222     0.00005     6.043734  0.004249  125.663706  0.00005   \n",
       "2   0.009444     0.00005     4.670384  0.018214  125.663706  0.00005   \n",
       "3   0.011667     0.00005     2.290923  0.040459  125.663706  0.00005   \n",
       "4   0.013889     0.00005     2.289513  0.045383  125.663706  0.00005   \n",
       "..       ...         ...          ...       ...         ...      ...   \n",
       "95  0.016111     0.30000     0.258862  0.300000  125.663706  0.00005   \n",
       "96  0.018333     0.30000     4.155423  0.439541  125.663706  0.00005   \n",
       "97  0.020556     0.30000     3.863530  0.405279  125.663706  0.00005   \n",
       "98  0.022778     0.30000     5.957645  0.300000   13.962634  0.00005   \n",
       "99  0.025000     0.30000     4.238651  0.300000   13.962634  0.00005   \n",
       "\n",
       "    MaxSmaxis  \n",
       "0    0.005004  \n",
       "1    0.007222  \n",
       "2    0.009513  \n",
       "3    0.011722  \n",
       "4    0.014058  \n",
       "..        ...  \n",
       "95   0.016378  \n",
       "96   0.018522  \n",
       "97   0.020556  \n",
       "98   0.022778  \n",
       "99   0.025000  \n",
       "\n",
       "[100 rows x 7 columns]"
      ]
     },
     "execution_count": 14,
     "metadata": {},
     "output_type": "execute_result"
    }
   ],
   "source": [
    "data"
   ]
  },
  {
   "cell_type": "markdown",
   "metadata": {},
   "source": [
    "## Maximum Eccentricity map"
   ]
  },
  {
   "cell_type": "code",
   "execution_count": 18,
   "metadata": {},
   "outputs": [
    {
     "data": {
      "image/png": "[encoded data removed]",
      "text/plain": [
       "<Figure size 504x360 with 2 Axes>"
      ]
     },
     "metadata": {
      "needs_background": "light"
     },
     "output_type": "display_data"
    }
   ],
   "source": [
    "Ngrid = int(np.sqrt(len(data.index)))\n",
    "eccmax2d = np.array(data['MaxEcc']).reshape(Ngrid,Ngrid)\n",
    "\n",
    "fig = plt.figure(figsize=(7,5))\n",
    "ax = plt.subplot(111)\n",
    "extent = [min(data['Smaxis']),max(data['Smaxis']),min(data['InitialEcc']),max(data['InitialEcc'])]\n",
    "\n",
    "ax.set_xlim(extent[0],extent[1])\n",
    "ax.set_xlabel(\"Semi-major axis ($au$)\", fontsize=20)\n",
    "ax.set_ylim(extent[2],extent[3])\n",
    "ax.set_ylabel(\"Eccentricity ($e$)\", fontsize=20)\n",
    "#plt.xticks(np.arange(extent[0],extent[1]+0.005,0.005),fontsize=20) \n",
    "#plt.yticks(np.arange(extent[2],extent[3]+0.1,0.1),fontsize=20)\n",
    "ax.tick_params(axis='both', direction='in',length = 4.0, width = 4.0,grid_alpha=0)   #grid_alpha=0 transparent\n",
    "\n",
    "im = ax.imshow(eccmax2d, interpolation=\"none\", vmin=0, vmax=1, cmap=\"cividis\", origin=\"lower\", aspect='auto', extent=extent)\n",
    "cb = plt.colorbar(im, ax=ax) \n",
    "cb.set_label(\"Maximum Eccentricity ($e_{max}$)\",fontsize=20)\n",
    "plt.savefig('maxeccmap.png',bbox_inches='tight')"
   ]
  },
  {
   "cell_type": "markdown",
   "metadata": {},
   "source": [
    "## Lifetime map"
   ]
  },
  {
   "cell_type": "code",
   "execution_count": 19,
   "metadata": {},
   "outputs": [
    {
     "data": {
      "image/png": "[encoded data removed]",
      "text/plain": [
       "<Figure size 504x360 with 2 Axes>"
      ]
     },
     "metadata": {
      "needs_background": "light"
     },
     "output_type": "display_data"
    }
   ],
   "source": [
    "Ngrid = int(np.sqrt(len(data.index)))\n",
    "lifetimes2d = (np.array(data['Lifetime']).reshape(Ngrid,Ngrid))/(2*np.pi)\n",
    "\n",
    "fig = plt.figure(figsize=(7,5))\n",
    "ax = plt.subplot(111)\n",
    "extent = [min(data['Smaxis']),max(data['Smaxis']),min(data['InitialEcc']),max(data['InitialEcc'])]\n",
    "\n",
    "ax.set_xlim(extent[0],extent[1])\n",
    "ax.set_xlabel(\"Semi-major axis ($au$)\", fontsize=20)\n",
    "ax.set_ylim(extent[2],extent[3])\n",
    "ax.set_ylabel(\"Eccentricity ($e$)\", fontsize=20)\n",
    "#plt.xticks(np.arange(extent[0],extent[1]+0.005,0.005),fontsize=20) \n",
    "#plt.yticks(np.arange(extent[2],extent[3]+0.1,0.1),fontsize=20)\n",
    "ax.tick_params(axis='both', direction='in',length = 4.0, width = 4.0,grid_alpha=0)   #grid_alpha=0 transparent\n",
    "\n",
    "\n",
    "im = ax.imshow(lifetimes2d, interpolation=\"none\", vmin=0, vmax=np.max(lifetimes2d),\\\n",
    "               cmap=\"YlGn\", origin=\"lower\", aspect='auto', extent=extent)\n",
    "cb = plt.colorbar(im, ax=ax) \n",
    "cb.set_label(\"Lifetime (Yr)\",fontsize=20)\n",
    "plt.savefig('Lifetime.png',bbox_inches='tight')"
   ]
  },
  {
   "cell_type": "code",
   "execution_count": null,
   "metadata": {},
   "outputs": [],
   "source": []
  }
 ],
 "metadata": {
  "kernelspec": {
   "display_name": "Python 3",
   "language": "python",
   "name": "python3"
  },
  "language_info": {
   "codemirror_mode": {
    "name": "ipython",
    "version": 3
   },
   "file_extension": ".py",
   "mimetype": "text/x-python",
   "name": "python",
   "nbconvert_exporter": "python",
   "pygments_lexer": "ipython3",
   "version": "3.8.3"
  }
 },
 "nbformat": 4,
 "nbformat_minor": 4
}
